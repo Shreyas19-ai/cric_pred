{
  "nbformat": 4,
  "nbformat_minor": 0,
  "metadata": {
    "colab": {
      "private_outputs": true,
      "provenance": [],
      "gpuType": "V28",
      "authorship_tag": "ABX9TyMTprwhltUT0G7mjzSsly3l",
      "include_colab_link": true
    },
    "kernelspec": {
      "name": "python3",
      "display_name": "Python 3"
    },
    "language_info": {
      "name": "python"
    },
    "accelerator": "TPU"
  },
  "cells": [
    {
      "cell_type": "markdown",
      "metadata": {
        "id": "view-in-github",
        "colab_type": "text"
      },
      "source": [
        "<a href=\"https://colab.research.google.com/github/Shreyas19-ai/cric_pred/blob/main/t20_score.ipynb\" target=\"_parent\"><img src=\"https://colab.research.google.com/assets/colab-badge.svg\" alt=\"Open In Colab\"/></a>"
      ]
    },
    {
      "cell_type": "code",
      "execution_count": null,
      "metadata": {
        "id": "ILGC6tdpB5MG"
      },
      "outputs": [],
      "source": [
        "import numpy as np\n",
        "import pandas as pd"
      ]
    },
    {
      "cell_type": "code",
      "source": [
        "t20_df = pd.read_csv('/content/ball_by_ball_it20.csv.zip')"
      ],
      "metadata": {
        "id": "y-C2mLaYCFfz"
      },
      "execution_count": null,
      "outputs": []
    },
    {
      "cell_type": "code",
      "source": [
        "t24_df = pd.read_csv('/content/ball_by_ball_it20.csv.zip')"
      ],
      "metadata": {
        "id": "TpMRmdU5DT5l"
      },
      "execution_count": null,
      "outputs": []
    },
    {
      "cell_type": "code",
      "source": [
        "t20_df"
      ],
      "metadata": {
        "id": "GW7wy25JDbex"
      },
      "execution_count": null,
      "outputs": []
    },
    {
      "cell_type": "code",
      "source": [
        "t20_df.info()"
      ],
      "metadata": {
        "id": "whSt5mt0Dcoy"
      },
      "execution_count": null,
      "outputs": []
    },
    {
      "cell_type": "code",
      "source": [
        "t20_df.describe()"
      ],
      "metadata": {
        "id": "coWp80SlDs3n"
      },
      "execution_count": null,
      "outputs": []
    },
    {
      "cell_type": "code",
      "source": [
        "t20_df.isnull().sum()"
      ],
      "metadata": {
        "id": "e1uGVijwJsql"
      },
      "execution_count": null,
      "outputs": []
    },
    {
      "cell_type": "code",
      "source": [
        "t20_df['Player Out'].unique()"
      ],
      "metadata": {
        "id": "-HFTgQIvdP-K"
      },
      "execution_count": null,
      "outputs": []
    },
    {
      "cell_type": "code",
      "source": [
        "t20_df['Player Out'].value_counts()"
      ],
      "metadata": {
        "id": "WQvJrpPFdYLJ"
      },
      "execution_count": null,
      "outputs": []
    },
    {
      "cell_type": "code",
      "source": [
        "t20_df['Player Out'] = t20_df['Player Out'].fillna(0)"
      ],
      "metadata": {
        "id": "zFmUXEaSdh9F"
      },
      "execution_count": null,
      "outputs": []
    },
    {
      "cell_type": "code",
      "source": [
        "t20_df.isnull().sum()"
      ],
      "metadata": {
        "id": "2iBVp7_ydq4s"
      },
      "execution_count": null,
      "outputs": []
    },
    {
      "cell_type": "code",
      "source": [
        "t20_df['Method'].unique()"
      ],
      "metadata": {
        "id": "TtxiZiXZKXbP"
      },
      "execution_count": null,
      "outputs": []
    },
    {
      "cell_type": "code",
      "source": [
        "t20_df['Player Out'].unique()"
      ],
      "metadata": {
        "id": "37ejUA9cKljx"
      },
      "execution_count": null,
      "outputs": []
    },
    {
      "cell_type": "code",
      "source": [
        "t20_df.shape"
      ],
      "metadata": {
        "id": "uBuQKxI7JuR3"
      },
      "execution_count": null,
      "outputs": []
    },
    {
      "cell_type": "code",
      "source": [
        "t20_df = t20_df.drop(columns=['Player Out Balls Faced','Player Out Runs','Runs to Get','Method'])"
      ],
      "metadata": {
        "id": "isZFDGO5J4hG"
      },
      "execution_count": null,
      "outputs": []
    },
    {
      "cell_type": "code",
      "source": [
        "t20_df.shape"
      ],
      "metadata": {
        "id": "7E-LOMUaLDby"
      },
      "execution_count": null,
      "outputs": []
    },
    {
      "cell_type": "code",
      "source": [
        "t20_df.info()"
      ],
      "metadata": {
        "id": "nw_cLiUXLFo4"
      },
      "execution_count": null,
      "outputs": []
    },
    {
      "cell_type": "code",
      "source": [
        "df = t20_df[['Match ID','Date','Venue','Bat First','Bat Second','Ball','Over','Innings','Batter','Bowler','Runs From Ball','Wicket','Innings Runs','Innings Wickets','Target Score','Balls Remaining','Player Out']]"
      ],
      "metadata": {
        "id": "MjdYARyqMW6f"
      },
      "execution_count": null,
      "outputs": []
    },
    {
      "cell_type": "code",
      "source": [
        "df"
      ],
      "metadata": {
        "id": "XOFjqMHONpGB"
      },
      "execution_count": null,
      "outputs": []
    },
    {
      "cell_type": "code",
      "source": [
        "df = df.rename(columns={'Bat First':'Batting Team','Bat Second':'Bowling Team'})"
      ],
      "metadata": {
        "id": "8-VDIv0bNwWI"
      },
      "execution_count": null,
      "outputs": []
    },
    {
      "cell_type": "code",
      "source": [
        "df"
      ],
      "metadata": {
        "id": "blTZ5WRbNpb3"
      },
      "execution_count": null,
      "outputs": []
    },
    {
      "cell_type": "code",
      "source": [
        "df.sample(12)"
      ],
      "metadata": {
        "id": "V8ZAO88CObjN"
      },
      "execution_count": null,
      "outputs": []
    },
    {
      "cell_type": "code",
      "source": [
        "df['Innings Wickets'] = 10 - df['Innings Wickets']\n",
        "df.rename(columns={'Innings Wickets':'Wickets Left'}, inplace=True)"
      ],
      "metadata": {
        "id": "K0ySyzP6PNC9"
      },
      "execution_count": null,
      "outputs": []
    },
    {
      "cell_type": "code",
      "source": [
        "df"
      ],
      "metadata": {
        "id": "-Nuny5vVPX8g"
      },
      "execution_count": null,
      "outputs": []
    },
    {
      "cell_type": "code",
      "source": [
        "df['Run Rate'] = df['Innings Runs']/df['Over']"
      ],
      "metadata": {
        "id": "PtOpGkxyPYeC"
      },
      "execution_count": null,
      "outputs": []
    },
    {
      "cell_type": "code",
      "source": [
        "df"
      ],
      "metadata": {
        "id": "6ybozognQ-cH"
      },
      "execution_count": null,
      "outputs": []
    },
    {
      "cell_type": "code",
      "source": [
        "df.rename(columns={'Innings Runs':'Current Score'}, inplace=True)\n",
        "df"
      ],
      "metadata": {
        "id": "bc8WgxrsRo2z"
      },
      "execution_count": null,
      "outputs": []
    },
    {
      "cell_type": "code",
      "source": [
        "df['Batting Team'].unique()"
      ],
      "metadata": {
        "id": "sN-xjjNQXNSK"
      },
      "execution_count": null,
      "outputs": []
    },
    {
      "cell_type": "code",
      "source": [
        "df['Batting Team'].value_counts().head(20)"
      ],
      "metadata": {
        "id": "7ZC8a9dBXxYc"
      },
      "execution_count": null,
      "outputs": []
    },
    {
      "cell_type": "code",
      "source": [
        "teams = ['Pakistan',\n",
        "'India',\n",
        "'New Zealand',\n",
        "'South Africa',\n",
        "'Sri Lanka',\n",
        "'West Indies',\n",
        "'England',\n",
        "'Australia',\n",
        "'Bangladesh',\n",
        "'Afghanistan',\n",
        "'Zimbabwe',\n",
        "'Ireland',\n",
        "'Netherlands'\n",
        ",'Scotland']"
      ],
      "metadata": {
        "id": "FewXvdrMW7IH"
      },
      "execution_count": null,
      "outputs": []
    },
    {
      "cell_type": "code",
      "source": [
        "df = df[df['Batting Team'].isin(teams)]\n",
        "df = df[df['Bowling Team'].isin(teams)]"
      ],
      "metadata": {
        "id": "zp8EnDoKY7KA"
      },
      "execution_count": null,
      "outputs": []
    },
    {
      "cell_type": "code",
      "source": [
        "df"
      ],
      "metadata": {
        "id": "YrKIfSIVZAh5"
      },
      "execution_count": null,
      "outputs": []
    },
    {
      "cell_type": "code",
      "source": [
        "import pickle\n",
        "pickle.dump(df,open('output.pkl','wb'))"
      ],
      "metadata": {
        "id": "W2SrPc96gLof"
      },
      "execution_count": null,
      "outputs": []
    },
    {
      "cell_type": "markdown",
      "source": [
        "# **Feature Extraction**"
      ],
      "metadata": {
        "id": "gB0ISIMkgm0g"
      }
    },
    {
      "cell_type": "code",
      "source": [
        "new_df = pickle.load(open('output.pkl','rb'))"
      ],
      "metadata": {
        "id": "Jty7T-ZGgfWe"
      },
      "execution_count": null,
      "outputs": []
    },
    {
      "cell_type": "code",
      "source": [
        "new_df"
      ],
      "metadata": {
        "id": "iXi0R2_eg3Bp"
      },
      "execution_count": null,
      "outputs": []
    },
    {
      "cell_type": "code",
      "source": [
        "new_df['Venue'].unique()"
      ],
      "metadata": {
        "id": "42Komo81hnZg"
      },
      "execution_count": null,
      "outputs": []
    },
    {
      "cell_type": "code",
      "source": [
        "new_df['Venue'].value_counts().head(50)"
      ],
      "metadata": {
        "id": "BXVzRKSGh8Kh"
      },
      "execution_count": null,
      "outputs": []
    },
    {
      "cell_type": "code",
      "source": [
        "new_df['Venue'].value_counts()[new_df['Venue'].value_counts()>600]"
      ],
      "metadata": {
        "id": "ES0XVMR_jg6j"
      },
      "execution_count": null,
      "outputs": []
    },
    {
      "cell_type": "code",
      "source": [
        "stadiums = new_df['Venue'].value_counts()[new_df['Venue'].value_counts()>600].index.to_list()"
      ],
      "metadata": {
        "id": "H4tb4PzBkXcg"
      },
      "execution_count": null,
      "outputs": []
    },
    {
      "cell_type": "code",
      "source": [
        "new_df = new_df[new_df['Venue'].isin(stadiums)]"
      ],
      "metadata": {
        "id": "IuP8-e3nkgk4"
      },
      "execution_count": null,
      "outputs": []
    },
    {
      "cell_type": "code",
      "source": [
        "new_df.rename(columns={'Venue':'Stadiums'}, inplace=True)"
      ],
      "metadata": {
        "id": "ib9kJrSxlN_m"
      },
      "execution_count": null,
      "outputs": []
    },
    {
      "cell_type": "code",
      "source": [
        "new_df"
      ],
      "metadata": {
        "id": "JvDjodfVk0Cm"
      },
      "execution_count": null,
      "outputs": []
    },
    {
      "cell_type": "code",
      "source": [
        "new_df.info()"
      ],
      "metadata": {
        "id": "Bh0YQv2ZqNn-"
      },
      "execution_count": null,
      "outputs": []
    },
    {
      "cell_type": "code",
      "source": [
        "import pandas as pd\n",
        "\n",
        "# Convert Runs From Ball to numeric before grouping\n",
        "new_df['Runs From Ball'] = pd.to_numeric(new_df['Runs From Ball'], errors='coerce')\n",
        "\n",
        "groups = new_df.groupby('Match ID')\n",
        "match_ids = new_df['Match ID'].unique()\n",
        "last_five = []\n",
        "for id in match_ids:\n",
        "    # Select only the 'Runs From Ball' column before applying rolling sum\n",
        "    group_data = groups.get_group(id)['Runs From Ball']\n",
        "\n",
        "    # Apply rolling sum and extend the list\n",
        "    last_five.extend(group_data.rolling(window=30).sum().values.tolist())"
      ],
      "metadata": {
        "id": "WCEsrA0Zs5SO"
      },
      "execution_count": null,
      "outputs": []
    },
    {
      "cell_type": "code",
      "source": [
        "last_five"
      ],
      "metadata": {
        "id": "25t2xevJs53d"
      },
      "execution_count": null,
      "outputs": []
    },
    {
      "cell_type": "code",
      "source": [
        "new_df"
      ],
      "metadata": {
        "id": "daBpNVYPtNtL"
      },
      "execution_count": null,
      "outputs": []
    },
    {
      "cell_type": "code",
      "source": [
        "new_df['last five'] = last_five"
      ],
      "metadata": {
        "id": "eGduHgKhs-vd"
      },
      "execution_count": null,
      "outputs": []
    },
    {
      "cell_type": "code",
      "source": [
        "new_df"
      ],
      "metadata": {
        "id": "jWzeVpSJuetn"
      },
      "execution_count": null,
      "outputs": []
    },
    {
      "cell_type": "code",
      "source": [
        "new_df = new_df[['Batting Team','Bowling Team','Stadiums','Current Score','Wickets Left','Balls Remaining','Run Rate','last five','Target Score']]"
      ],
      "metadata": {
        "id": "ErhEc_nfufLm"
      },
      "execution_count": null,
      "outputs": []
    },
    {
      "cell_type": "code",
      "source": [
        "new_df.rename(columns={'Current Score':'current_score',\n",
        "                       'Batting Team':'batting_team',\n",
        "                       'Bowling Team':'bowling_team',\n",
        "                       'Wickets Left':'wickets_left',\n",
        "                       'Balls Remaining':'balls_left',\n",
        "                       'last five':'last_five',\n",
        "                       'Stadiums':'Stadium',\n",
        "                       'Run Rate':'crr',\n",
        "                       'Target Score':'runs_x'}, inplace=True)"
      ],
      "metadata": {
        "id": "S0l_ElpEfOzG"
      },
      "execution_count": null,
      "outputs": []
    },
    {
      "cell_type": "code",
      "source": [
        "new_df"
      ],
      "metadata": {
        "id": "0FdxfxrBunGE"
      },
      "execution_count": null,
      "outputs": []
    },
    {
      "cell_type": "code",
      "source": [
        "new_df.isnull().sum()"
      ],
      "metadata": {
        "id": "k5V-rafgvgEt"
      },
      "execution_count": null,
      "outputs": []
    },
    {
      "cell_type": "code",
      "source": [
        "new_df.dropna(inplace=True)"
      ],
      "metadata": {
        "id": "UVux0HpSvqM5"
      },
      "execution_count": null,
      "outputs": []
    },
    {
      "cell_type": "code",
      "source": [
        "new_df.isnull().sum()"
      ],
      "metadata": {
        "id": "XPNT8hMvvuVo"
      },
      "execution_count": null,
      "outputs": []
    },
    {
      "cell_type": "code",
      "source": [
        "new_df = new_df.sample(new_df.shape[0]) # to avoid bias"
      ],
      "metadata": {
        "id": "U-e6rhHjvx5Y"
      },
      "execution_count": null,
      "outputs": []
    },
    {
      "cell_type": "code",
      "source": [
        "new_df"
      ],
      "metadata": {
        "id": "rokVOZo5vwWM"
      },
      "execution_count": null,
      "outputs": []
    },
    {
      "cell_type": "code",
      "source": [
        "new_df.sample(5)"
      ],
      "metadata": {
        "id": "f-mTd5XZv-sF"
      },
      "execution_count": null,
      "outputs": []
    },
    {
      "cell_type": "code",
      "source": [
        "new_df.shape"
      ],
      "metadata": {
        "id": "45hIHGgCiYJn"
      },
      "execution_count": null,
      "outputs": []
    },
    {
      "cell_type": "code",
      "source": [
        "X = new_df.drop(columns=['runs_x'])\n",
        "y = new_df['runs_x']"
      ],
      "metadata": {
        "id": "OZe-KfZMwIU_"
      },
      "execution_count": null,
      "outputs": []
    },
    {
      "cell_type": "code",
      "source": [
        "from sklearn.model_selection import train_test_split\n",
        "X_train,X_test,y_train,y_test = train_test_split(X,y,test_size=0.2,random_state=1)"
      ],
      "metadata": {
        "id": "16g9uT50wWxn"
      },
      "execution_count": null,
      "outputs": []
    },
    {
      "cell_type": "code",
      "source": [
        "X_train"
      ],
      "metadata": {
        "id": "g3CZdlVRwZfv"
      },
      "execution_count": null,
      "outputs": []
    },
    {
      "cell_type": "code",
      "source": [
        "from sklearn.compose import ColumnTransformer\n",
        "from sklearn.preprocessing import OneHotEncoder\n",
        "from sklearn.pipeline import Pipeline\n",
        "from sklearn.preprocessing import StandardScaler\n",
        "from sklearn.ensemble import RandomForestRegressor\n",
        "from sklearn.metrics import r2_score,mean_absolute_error\n",
        "!pip install xgboost\n",
        "from xgboost import XGBRegressor"
      ],
      "metadata": {
        "id": "2tCl_cstwcaP"
      },
      "execution_count": null,
      "outputs": []
    },
    {
      "cell_type": "code",
      "source": [
        "trf = ColumnTransformer([\n",
        "    ('trf',OneHotEncoder(sparse_output=False,drop='first'),['batting_team','bowling_team','Stadium'])\n",
        "]\n",
        ",remainder='passthrough')"
      ],
      "metadata": {
        "id": "jViJc2APwgXG"
      },
      "execution_count": null,
      "outputs": []
    },
    {
      "cell_type": "code",
      "source": [
        "pipe = Pipeline(steps=[\n",
        "    ('step1',trf),\n",
        "    ('step2',StandardScaler()),\n",
        "    ('step3',XGBRegressor(n_estimators=1000,learning_rate=0.1,max_depth=12,random_state=1))])"
      ],
      "metadata": {
        "id": "-snq6nhRxCvx"
      },
      "execution_count": null,
      "outputs": []
    },
    {
      "cell_type": "code",
      "source": [
        "pipe1 = Pipeline(steps=[\n",
        "    ('step1',trf),\n",
        "    ('step2',StandardScaler()),\n",
        "    ('step3',RandomForestRegressor(n_estimators=1000,max_depth=12,random_state=1))])"
      ],
      "metadata": {
        "id": "W181tePdnYmS"
      },
      "execution_count": null,
      "outputs": []
    },
    {
      "cell_type": "code",
      "source": [
        "pipe1.fit(X_train,y_train)\n",
        "y_pred1 = pipe1.predict(X_test)\n",
        "print(r2_score(y_test,y_pred1))\n",
        "print(mean_absolute_error(y_test,y_pred1))"
      ],
      "metadata": {
        "id": "qhO7rkX0nxUy"
      },
      "execution_count": null,
      "outputs": []
    },
    {
      "cell_type": "code",
      "source": [
        "pipe.fit(X_train,y_train)\n",
        "y_pred = pipe.predict(X_test)\n",
        "print(r2_score(y_test,y_pred))\n",
        "print(mean_absolute_error(y_test,y_pred))"
      ],
      "metadata": {
        "id": "06SiKqfzxPMY"
      },
      "execution_count": null,
      "outputs": []
    },
    {
      "cell_type": "code",
      "source": [
        "from sklearn.model_selection import cross_val_score"
      ],
      "metadata": {
        "id": "c8GBA56ojEjp"
      },
      "execution_count": null,
      "outputs": []
    },
    {
      "cell_type": "code",
      "source": [
        "cv = cross_val_score(pipe,X,y,cv=5,scoring='r2')\n",
        "print(cv.mean())"
      ],
      "metadata": {
        "id": "O4tnT_Ftjc34"
      },
      "execution_count": null,
      "outputs": []
    },
    {
      "cell_type": "code",
      "source": [
        "pickle.dump(pipe,open('pipe.pkl','wb'))"
      ],
      "metadata": {
        "id": "13pS0XCdx6jf"
      },
      "execution_count": null,
      "outputs": []
    },
    {
      "cell_type": "code",
      "source": [
        "teams"
      ],
      "metadata": {
        "id": "3W7tNxBEymIM"
      },
      "execution_count": null,
      "outputs": []
    },
    {
      "cell_type": "code",
      "source": [
        "stadiums"
      ],
      "metadata": {
        "id": "X9vZ4zMsyn3V"
      },
      "execution_count": null,
      "outputs": []
    }
  ]
}